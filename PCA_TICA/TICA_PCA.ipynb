{
 "cells": [
  {
   "cell_type": "code",
   "execution_count": null,
   "id": "2bd1b7e9",
   "metadata": {},
   "outputs": [],
   "source": [
    "import numpy as np\n",
    "import matplotlib.pyplot as plt\n",
    "import pyemma.coordinates as coor\n",
    "import seaborn as sns"
   ]
  },
  {
   "cell_type": "code",
   "execution_count": null,
   "id": "f5ccc7e7",
   "metadata": {},
   "outputs": [],
   "source": [
    "plt.rcParams[\"figure.figsize\"] = [9, 7]   \n",
    "plt.rcParams[\"axes.edgecolor\"] = \"black\"\n",
    "plt.rcParams['axes.labelsize'] = 30\n",
    "plt.rcParams[\"axes.linewidth\"] = 2.0\n",
    "plt.rcParams[\"lines.linewidth\"] = 2.0\n",
    "plt.rcParams['xtick.labelsize'] = 20\n",
    "plt.rcParams['ytick.labelsize'] = 20\n",
    "plt.rcParams['xtick.direction'] = 'in'\n",
    "plt.rcParams['ytick.direction'] = 'in'\n",
    "plt.rcParams['xtick.top'] = True\n",
    "plt.rcParams['ytick.right'] = True\n",
    "plt.rcParams['xtick.major.size'] = 8\n",
    "plt.rcParams['ytick.major.size'] = 8\n",
    "plt.rcParams['xtick.major.width'] = 2\n",
    "plt.rcParams['ytick.major.width'] = 2\n",
    "plt.rcParams['legend.fontsize'] = 20\n",
    "plt.rcParams['legend.frameon'] = False\n",
    "plt.rcParams['legend.loc'] = 'best'\n",
    "plt.rcParams['legend.markerscale'] = 2\n",
    "plt.rcParams['savefig.dpi'] = 400\n",
    "plt.rcParams['savefig.bbox'] = 'tight'"
   ]
  },
  {
   "cell_type": "code",
   "execution_count": null,
   "id": "7b24e60f",
   "metadata": {},
   "outputs": [],
   "source": [
    "x = np.linspace(-2, 2, endpoint=True, num=200)\n",
    "y = np.linspace(-5, 5, endpoint=True, num=200)\n",
    "X, Y = np.meshgrid(x, y)\n",
    "V = 5*(X**2-1)**2 + 0.25*(Y**2)"
   ]
  },
  {
   "cell_type": "code",
   "execution_count": null,
   "id": "da07943c",
   "metadata": {},
   "outputs": [],
   "source": [
    "ax = plt.axes(projection='3d')\n",
    "surf = ax.plot_surface(X, Y, V, cmap = plt.cm.viridis_r)\n",
    "plt.colorbar(surf, label='V(x, y)', pad=0.1, aspect=8, shrink=0.5)\n",
    "ax.view_init(20, -103)\n",
    "ax.set_xlabel('x', labelpad=20)\n",
    "ax.set_ylabel('y', labelpad=20)\n",
    "plt.tight_layout()\n",
    "#plt.savefig('pca_vs_tica_2D_plot1.png')"
   ]
  },
  {
   "cell_type": "markdown",
   "id": "fd8cbfe6",
   "metadata": {},
   "source": [
    "## Contour plot"
   ]
  },
  {
   "cell_type": "code",
   "execution_count": null,
   "id": "3ecb818e",
   "metadata": {},
   "outputs": [],
   "source": [
    "plt.figure()\n",
    "c = plt.contourf(X, Y, V, np.linspace(-1, 15, 20), cmap='viridis_r')\n",
    "plt.contour(X, Y, V, np.linspace(-1, 15, 20), cmap='Greys')\n",
    "plt.xlabel('x')\n",
    "plt.ylabel('y')\n",
    "plt.colorbar(c, label='V(x, y)')\n",
    "ax = plt.gca()\n",
    "ax.set_yticks([-5, -4, -3, -2, -1, 0, 1, 2, 3, 4, 5])\n",
    "ax.set_yticklabels([-5, -4, -3, -2, -1, 0, 1, 2, 3, 4, 5])\n",
    "ax.set_xticks([-2, -1, 0, 1, 2])\n",
    "ax.set_xticklabels([-2, -1, 0, 1, 2])\n",
    "plt.tight_layout()\n",
    "#plt.savefig('pca_vs_tica_2D_plot2.png')"
   ]
  },
  {
   "cell_type": "markdown",
   "id": "5504a51d",
   "metadata": {},
   "source": [
    "## Monte Carlo"
   ]
  },
  {
   "cell_type": "code",
   "execution_count": null,
   "id": "75ca0598",
   "metadata": {},
   "outputs": [],
   "source": [
    "def monte_carlo(x_init, y_init, kbt, k, lx, ly, nsteps):\n",
    "    \n",
    "    max_translate = 0.01\n",
    "    \n",
    "\n",
    "    x_pos_list = []\n",
    "    y_pos_list = []\n",
    "    step_list = []\n",
    "    x_pos_list.append(x_init)\n",
    "    y_pos_list.append(y_init)\n",
    "    step_list.append(0)\n",
    "\n",
    "    for i in range(1, nsteps+1):\n",
    "        x_old = x_pos_list[i-1]\n",
    "        y_old = y_pos_list[i-1]\n",
    "        delta_x = np.random.uniform( -max_translate, max_translate )\n",
    "        delta_y = np.random.uniform( -max_translate, max_translate )\n",
    "        x_new = x_old + delta_x\n",
    "        y_new = y_old + delta_y\n",
    "        \n",
    "        # Periodic Boundary Condition\n",
    "        if(x_new > lx/2):\n",
    "            x_new = x_new - lx\n",
    "        elif(x_new < -lx/2):\n",
    "            x_new = x_new + lx\n",
    "            \n",
    "        if(y_new > ly/2):\n",
    "            y_new = y_new - ly\n",
    "        elif(y_new < -ly/2):\n",
    "            y_new = y_new + ly\n",
    "            \n",
    "            \n",
    "        # Calculate Energies\n",
    "        E_old = k*(x_old**2-1)**2 + 0.25*(y_old**2)\n",
    "        E_new = k*(x_new**2-1)**2 + 0.25*(y_new**2)\n",
    "        \n",
    "        # Metropolis acceptance criteria\n",
    "        if (E_new <= E_old):\n",
    "            x_pos_list.append(x_new)\n",
    "            y_pos_list.append(y_new)\n",
    "        else:\n",
    "            z = np.exp(-(E_new-E_old)/kbt)\n",
    "            zeta = np.random.uniform(0.0, 1.0)\n",
    "            if (z > zeta):\n",
    "                x_pos_list.append(x_new)\n",
    "                y_pos_list.append(y_new)\n",
    "            else:\n",
    "                x_pos_list.append(x_old)\n",
    "                y_pos_list.append(y_old)\n",
    "                \n",
    "        step_list.append(i)\n",
    "    return x_pos_list, y_pos_list, step_list\n",
    "\n",
    "\n",
    "\n",
    "# Run\n",
    "run = monte_carlo(-1, 0, 0.7, 5, 4, 10, 10000000)\n",
    "x_data = run[0][::1000]\n",
    "y_data = run[1][::1000]\n",
    "#print(len(x_data), len(y_data))"
   ]
  },
  {
   "cell_type": "markdown",
   "id": "de5d7f38",
   "metadata": {},
   "source": [
    "## PCA & TICA"
   ]
  },
  {
   "cell_type": "code",
   "execution_count": null,
   "id": "d1128371",
   "metadata": {},
   "outputs": [],
   "source": [
    "all_data = np.zeros((len(x_data), 2))\n",
    "for t in range(len(x_data)):\n",
    "    all_data[t, 0] = x_data[t]\n",
    "    all_data[t, 1] = y_data[t]"
   ]
  },
  {
   "cell_type": "code",
   "execution_count": null,
   "id": "4a2f126a",
   "metadata": {},
   "outputs": [],
   "source": [
    "pca = coor.pca(data = all_data)\n",
    "pc = pca.eigenvectors\n",
    "S = pca.eigenvalues\n",
    "print(S, pc[:,0], pc[:,1])\n",
    "print('Length of eigenvectors::',np.linalg.norm(pc[:,0]), np.linalg.norm(pc[:,1]))\n",
    "print('Dot product of two eigenvectors:', np.dot(pc[:,0], pc[:,1]))"
   ]
  },
  {
   "cell_type": "code",
   "execution_count": null,
   "id": "f0bd77a1",
   "metadata": {},
   "outputs": [],
   "source": [
    "tica = coor.tica(data = all_data, lag=15)\n",
    "ic = tica.eigenvectors\n",
    "L = tica.eigenvalues\n",
    "print(L, ic[:,0], ic[:,1])\n",
    "print('Length of eigenvectors::',np.linalg.norm(ic[:,0]), np.linalg.norm(ic[:,1]))\n",
    "print('Dot product of two eigenvectors:', np.dot(ic[:,0], ic[:,1]))"
   ]
  },
  {
   "cell_type": "code",
   "execution_count": null,
   "id": "ebafb6c3",
   "metadata": {},
   "outputs": [],
   "source": [
    "def draw_arrow(a, v, color):\n",
    "    plt.arrow(0, 0, a*v[0], a*v[1], color=color, width=0.02, linewidth=3)"
   ]
  },
  {
   "cell_type": "code",
   "execution_count": null,
   "id": "6bc21b3a",
   "metadata": {},
   "outputs": [],
   "source": [
    "plt.scatter(x_data, y_data, marker = '.', color='black')\n",
    "#c = plt.contourf(X, Y, V, np.linspace(-1, 15, 20), cmap='viridis_r')\n",
    "#plt.contour(X, Y, V, np.linspace(-1, 15, 20), cmap='Greys')\n",
    "draw_arrow(S[0], pc[:,0], color='blue')\n",
    "draw_arrow(S[1], pc[:,1], color='green')\n",
    "draw_arrow(L[0], ic[:,0], color='red')\n",
    "draw_arrow(L[1], ic[:,1], color='orange')\n",
    "plt.text(-0.5, 2.5, 'PC1', color='blue', fontsize = 26, fontweight='bold', rotation='horizontal')\n",
    "plt.text(-1.2, -1.0, 'PC2', color='green', fontsize = 26, fontweight='bold', rotation='horizontal')\n",
    "\n",
    "plt.text(-0.8, 1, 'IC1', color='red', fontsize = 26, fontweight='bold', rotation='horizontal')\n",
    "plt.text(0.8, 0.9, 'IC2', color='orange', fontsize = 26, fontweight='bold', rotation='horizontal')\n",
    "plt.title('Lagtime=15', fontsize=20)\n",
    "plt.xlim(-2, 2)\n",
    "plt.ylim(-4, 4)\n",
    "plt.xlabel('x')\n",
    "plt.ylabel('y')\n",
    "ax = plt.gca()\n",
    "ax.set_yticks([-5, -4, -3, -2, -1, 0, 1, 2, 3, 4, 5])\n",
    "ax.set_yticklabels([-5, -4, -3, -2, -1, 0, 1, 2, 3, 4, 5])\n",
    "ax.set_xticks([-2, -1, 0, 1, 2])\n",
    "ax.set_xticklabels([-2, -1, 0, 1, 2])\n",
    "#plt.savefig('pca_vs_tica_2D_TICA-PCA-1.png')"
   ]
  },
  {
   "cell_type": "code",
   "execution_count": null,
   "id": "6855df18",
   "metadata": {},
   "outputs": [],
   "source": [
    "Ypca1 = pca.get_output()[0][:,0]\n",
    "Ypca2 = pca.get_output()[0][:,1]\n",
    "print(f'Variance (should be same as eigenvalues {S})::', np.var(Ypca1), np.var(Ypca2))\n",
    "\n",
    "Ytica1 = tica.get_output()[0][:,0]\n",
    "Ytica2 = tica.get_output()[0][:,1]\n",
    "print('Variance (should equal to 1)::', np.var(Ytica1), np.var(Ytica2))"
   ]
  },
  {
   "cell_type": "code",
   "execution_count": null,
   "id": "65ceb1a6",
   "metadata": {},
   "outputs": [],
   "source": [
    "fig, ax = plt.subplots(1, 2, sharey=True, figsize=(14,6))\n",
    "fig.subplots_adjust(wspace=0)\n",
    "sns.kdeplot(Ypca1, ax=ax[0], fill=True, label='PC1', color='blue')\n",
    "sns.kdeplot(Ypca2, ax=ax[0], fill=True, label='PC2', color='green')\n",
    "\n",
    "sns.kdeplot(Ytica1, ax=ax[1], fill=True, label='IC1', color='blue')\n",
    "sns.kdeplot(Ytica2, ax=ax[1], fill=True, label='IC2', color='green')\n",
    "\n",
    "\n",
    "ax[0].set_xlabel('PC1/PC2')\n",
    "ax[1].set_xlabel('IC1/IC2')\n",
    "ax[0].legend()\n",
    "ax[1].legend()\n",
    "#plt.savefig('pca_vs_tica_2D_hist.png')"
   ]
  },
  {
   "cell_type": "code",
   "execution_count": null,
   "id": "8718d1c9",
   "metadata": {},
   "outputs": [],
   "source": []
  }
 ],
 "metadata": {
  "kernelspec": {
   "display_name": "Python 3 (ipykernel)",
   "language": "python",
   "name": "python3"
  },
  "language_info": {
   "codemirror_mode": {
    "name": "ipython",
    "version": 3
   },
   "file_extension": ".py",
   "mimetype": "text/x-python",
   "name": "python",
   "nbconvert_exporter": "python",
   "pygments_lexer": "ipython3",
   "version": "3.9.12"
  }
 },
 "nbformat": 4,
 "nbformat_minor": 5
}
